{
 "cells": [
  {
   "cell_type": "markdown",
   "id": "6806f703",
   "metadata": {},
   "source": [
    "# Viewing a NIfTI file with nibabel\n",
    "\n",
    "This short notebook demonstrates how to download a small NIfTI image from GitHub, load it with **nibabel**, and display an axial slice. Run the cells in order."
   ]
  },
  {
   "cell_type": "code",
   "execution_count": null,
   "id": "08bb141e",
   "metadata": {},
   "outputs": [],
   "source": [
    "import nibabel as nib\n",
    "import matplotlib.pyplot as plt\n",
    "import numpy as np\n",
    "import urllib.request, shutil\n",
    "from pathlib import Path"
   ]
  },
  {
   "cell_type": "code",
   "execution_count": null,
   "id": "d38d5d65",
   "metadata": {},
   "outputs": [],
   "source": [
    "# Download sample NIfTI file (T1-weighted structural MRI)\n",
    "# 1. Use the RAW URL\n",
    "url = 'https://raw.githubusercontent.com/cogscicraig/UVA_Brainhack_2025/main/Week1/data/craigBrain_2022.nii.gz'\n",
    "dst = Path('craigBrain_2022.nii.gz')\n",
    "\n",
    "# 2. (Optional) stream copy so you see progress on large files\n",
    "def download(url, dst):\n",
    "    with urllib.request.urlopen(url) as resp, open(dst, 'wb') as out:\n",
    "        shutil.copyfileobj(resp, out)\n",
    "\n",
    "if not dst.exists():\n",
    "    print(f'Downloading {url} …')\n",
    "    download(url, dst)\n",
    "    print('Done. Saved', dst.stat().st_size, 'bytes')\n",
    "else:\n",
    "    print('File already present →', dst, '(', dst.stat().st_size, 'bytes )')"
   ]
  },
  {
   "cell_type": "code",
   "execution_count": null,
   "id": "4eae7826",
   "metadata": {},
   "outputs": [],
   "source": [
    "# Load the image and inspect metadata\n",
    "img = nib.load('craigBrain_2022.nii.gz')\n",
    "print(img)\n",
    "\n",
    "data = img.get_fdata()\n",
    "print('Shape:', data.shape)"
   ]
  },
  {
   "cell_type": "code",
   "execution_count": null,
   "id": "935b212c",
   "metadata": {},
   "outputs": [],
   "source": [
    "# Display a middle axial slice\n",
    "z = data.shape[2] // 2\n",
    "\n",
    "plt.figure(figsize=(6,6))\n",
    "plt.imshow(np.rot90(data[:, :, z]), cmap='gray')\n",
    "plt.title(f'Axial slice z={z}')\n",
    "plt.axis('off')\n",
    "plt.show()"
   ]
  }
 ],
 "metadata": {
  "kernelspec": {
   "display_name": "Python 3 (ipykernel)",
   "language": "python",
   "name": "python3"
  },
  "language_info": {
   "codemirror_mode": {
    "name": "ipython",
    "version": 3
   },
   "file_extension": ".py",
   "mimetype": "text/x-python",
   "name": "python",
   "nbconvert_exporter": "python",
   "pygments_lexer": "ipython3",
   "version": "3.11.11"
  }
 },
 "nbformat": 4,
 "nbformat_minor": 5
}
