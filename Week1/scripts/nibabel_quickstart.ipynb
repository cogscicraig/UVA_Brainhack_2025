{
 "cells": [
  {
   "cell_type": "markdown",
   "metadata": {},
   "source": [
    "# Viewing a NIfTI file with nibabel\n",
    "\n",
    "This short notebook demonstrates how to download a small NIfTI image from GitHub, load it with **nibabel**, and display an axial slice. Run the cells in order."
   ]
  },
  {
   "cell_type": "code",
   "execution_count": null,
   "metadata": {},
   "outputs": [],
   "source": [
    "import nibabel as nib\n",
    "import matplotlib.pyplot as plt\n",
    "import numpy as np\n",
    "import urllib.request, os\n",
    "from pathlib import Path"
   ]
  },
  {
   "cell_type": "code",
   "execution_count": null,
   "metadata": {},
   "outputs": [],
   "source": [
    "# Download sample NIfTI file (T1-weighted structural MRI)\n",
    "url = 'https://github.com/cogscicraig/UVA_Brainhack_2025/blob/main/Week1/data/craigBrain_2022.nii.gz'\n",
    "dst = Path('craigBrain_2022.nii.gz')\n",
    "\n",
    "if not dst.exists():\n",
    "    print(f'Downloading {url}...')\n",
    "    urllib.request.urlretrieve(url, dst)\n",
    "    print('Done.')\n",
    "else:\n",
    "    print('File already present ->', dst)"
   ]
  },
  {
   "cell_type": "code",
   "execution_count": null,
   "metadata": {},
   "outputs": [],
   "source": [
    "# Load the image and inspect metadata\n",
    "img = nib.load('craigBrain_2022.nii.gz')\n",
    "print(img)\n",
    "\n",
    "data = img.get_fdata()\n",
    "print('Shape:', data.shape)"
   ]
  },
  {
   "cell_type": "code",
   "execution_count": null,
   "metadata": {},
   "outputs": [],
   "source": [
    "# Display a middle axial slice\n",
    "z = data.shape[2] // 2\n",
    "\n",
    "plt.figure(figsize=(6,6))\n",
    "plt.imshow(np.rot90(data[:, :, z]), cmap='gray')\n",
    "plt.title(f'Axial slice z={z}')\n",
    "plt.axis('off')\n",
    "plt.show()"
   ]
  }
 ],
 "metadata": {
  "kernelspec": {
   "display_name": "Python 3",
   "language": "python",
   "name": "python3"
  },
  "language_info": {
   "codemirror_mode": {
    "name": "ipython",
    "version": 3
   },
   "file_extension": ".py",
   "mimetype": "text/x-python",
   "name": "python",
   "nbconvert_exporter": "python",
   "pygments_lexer": "ipython3",
   "version": "3.10.5"
  }
 },
 "nbformat": 4,
 "nbformat_minor": 5
}
