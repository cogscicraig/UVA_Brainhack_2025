{
 "cells": [
  {
   "cell_type": "markdown",
   "metadata": {},
   "source": [
    "# Python + K-Space Playground\n",
    "Hands-on mini-lab for MRI students learning basic Python *and* how k-space builds an image.\n",
    "— **No prior coding assumed** —"
   ]
  },
  {
   "cell_type": "markdown",
   "metadata": {},
   "source": [
    "### Learning goals\n",
    "1. **Python essentials**: variables, arrays, loops, plotting.\n",
    "2. **K-space intuition**: see how a 2-D Fourier Transform turns frequency data into an image.\n",
    "3. Play with undersampling and watch aliasing appear in real time."
   ]
  },
  {
   "cell_type": "code",
   "execution_count": null,
   "metadata": {},
   "outputs": [],
   "source": [
    "import numpy as np\n",
    "import matplotlib.pyplot as plt\n",
    "from ipywidgets import interact, IntSlider, FloatSlider\n",
    "%matplotlib inline\n",
    "plt.rcParams['figure.figsize'] = (5,4)"
   ]
  },
  {
   "cell_type": "markdown",
   "metadata": {},
   "source": [
    "## 1 ▸ 3-minute Python crash\n",
    "Run each cell, tweak the code, and observe the output."
   ]
  },
  {
   "cell_type": "code",
   "execution_count": null,
   "metadata": {},
   "outputs": [],
   "source": [
    "a = 3\n",
    "b = 4\n",
    "c = a**2 + b**2\n",
    "print('c =', c)  # Pythagorean demo"
   ]
  },
  {
   "cell_type": "code",
   "execution_count": null,
   "metadata": {},
   "outputs": [],
   "source": [
    "t = np.linspace(0, 1, 500)\n",
    "f = 5\n",
    "signal = np.sin(2*np.pi*f*t)\n",
    "plt.plot(t, signal)\n",
    "plt.title('5 Hz sine wave'); plt.xlabel('time (s)'); plt.ylabel('amplitude');"
   ]
  },
  {
   "cell_type": "code",
   "execution_count": null,
   "metadata": {},
   "outputs": [],
   "source": [
    "def sine_demo(freq=5):\n",
    "    t = np.linspace(0,1,500)\n",
    "    sig = np.sin(2*np.pi*freq*t)\n",
    "    plt.plot(t, sig)\n",
    "    plt.xlabel('time(s)'); plt.ylabel('amp');\n",
    "    plt.title(f'{freq} Hz sine wave'); plt.show()\n",
    "\n",
    "interact(sine_demo, freq=IntSlider(5, min=1, max=20, step=1));"
   ]
  },
  {
   "cell_type": "markdown",
   "metadata": {},
   "source": [
    "---\n",
    "## 2 ▸ What is **k-space**?\n",
    "Think of the sine wave above. Frequency (k) lives in a different world than time (or position).  \n",
    "In 2-D MRI we record a grid of frequencies (k_x, k_y). A 2-D Fourier Transform turns that grid into the spatial image we recognise."
   ]
  },
  {
   "cell_type": "markdown",
   "metadata": {},
   "source": [
    "### 2.1 Create a simple phantom image (circle)"
   ]
  },
  {
   "cell_type": "code",
   "execution_count": null,
   "metadata": {},
   "outputs": [],
   "source": [
    "def make_circle(N=128, radius=0.3):\n",
    "    y,x = np.indices((N,N))\n",
    "    cx = cy = N//2\n",
    "    r = np.sqrt((x-cx)**2 + (y-cy)**2)/N\n",
    "    return (r < radius).astype(float)\n",
    "\n",
    "phantom = make_circle(128)\n",
    "plt.imshow(phantom, cmap='gray'); plt.title('Object (phantom)'); plt.axis('off');"
   ]
  },
  {
   "cell_type": "markdown",
   "metadata": {},
   "source": [
    "### 2.2 Compute its k-space"
   ]
  },
  {
   "cell_type": "code",
   "execution_count": null,
   "metadata": {},
   "outputs": [],
   "source": [
    "kspace = np.fft.fftshift(np.fft.fft2(phantom))\n",
    "plt.imshow(np.log(np.abs(kspace)+1e-3), cmap='magma')\n",
    "plt.title('Magnitude of k-space (log scale)'); plt.axis('off');"
   ]
  },
  {
   "cell_type": "markdown",
   "metadata": {},
   "source": [
    "### 2.3 Reconstruct by inverse FFT"
   ]
  },
  {
   "cell_type": "code",
   "execution_count": null,
   "metadata": {},
   "outputs": [],
   "source": [
    "recon = np.abs(np.fft.ifft2(np.fft.ifftshift(kspace)))\n",
    "fig,ax = plt.subplots(1,2,figsize=(8,4))\n",
    "ax[0].imshow(phantom, cmap='gray'); ax[0].set_title('Original'); ax[0].axis('off')\n",
    "ax[1].imshow(recon, cmap='gray');  ax[1].set_title('Reconstruction'); ax[1].axis('off')"
   ]
  },
  {
   "cell_type": "markdown",
   "metadata": {},
   "source": [
    "## 3 ▸ Undersampling experiment\n",
    "Slide the *fraction* of k-space lines we keep. Central lines = low frequencies ↔ overall shape; edges = fine detail."
   ]
  },
  {
   "cell_type": "code",
   "execution_count": null,
   "metadata": {},
   "outputs": [],
   "source": [
    "def undersample_demo(center_frac=0.3):\n",
    "    N = phantom.shape[0]\n",
    "    width = int(center_frac * N / 2)\n",
    "    mask = np.zeros_like(kspace, dtype=bool)\n",
    "    mask[N//2-width:N//2+width, :] = True  # keep central lines\n",
    "    k_us = np.where(mask, kspace, 0)\n",
    "    recon = np.abs(np.fft.ifft2(np.fft.ifftshift(k_us)))\n",
    "    fig,ax = plt.subplots(1,3,figsize=(12,4))\n",
    "    ax[0].imshow(np.log(np.abs(k_us)+1e-3), cmap='magma'); ax[0].set_title('Sampled k-space'); ax[0].axis('off')\n",
    "    ax[1].imshow(recon, cmap='gray'); ax[1].set_title('Recon'); ax[1].axis('off')\n",
    "    ax[2].imshow(phantom, cmap='gray'); ax[2].set_title('Ground truth'); ax[2].axis('off')\n",
    "    plt.show()\n",
    "\n",
    "interact(undersample_demo, center_frac=FloatSlider(0.3, min=0.05, max=1.0, step=0.05, description='center %'));"
   ]
  },
  {
   "cell_type": "markdown",
   "metadata": {},
   "source": [
    "### 4 ▸ Challenges\n",
    "1. Modify `make_circle` to add a second smaller circle off-centre. How does that change k-space?\n",
    "2. In the undersampling demo change the mask from central *lines* to a central *square*.\n",
    "3. Try adding random noise to k-space before reconstruction. What happens to the image?"
   ]
  }
 ],
 "metadata": {
  "kernelspec": {
   "display_name": "Python 3",
   "name": "python3"
  }
 },
 "nbformat": 4,
 "nbformat_minor": 5
}
